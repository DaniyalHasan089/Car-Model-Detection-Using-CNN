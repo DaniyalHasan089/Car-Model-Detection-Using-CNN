{
  "nbformat": 4,
  "nbformat_minor": 0,
  "metadata": {
    "colab": {
      "provenance": [],
      "gpuType": "T4"
    },
    "kernelspec": {
      "name": "python3",
      "display_name": "Python 3"
    },
    "language_info": {
      "name": "python"
    },
    "accelerator": "GPU"
  },
  "cells": [
    {
      "cell_type": "code",
      "source": [
        "from google.colab import drive\n",
        "drive.mount('/content/drive')"
      ],
      "metadata": {
        "colab": {
          "base_uri": "https://localhost:8080/"
        },
        "id": "2TZaFCLAqXMo",
        "outputId": "dd49d3a9-8c6a-49f3-8298-52c43c621c3e"
      },
      "execution_count": null,
      "outputs": [
        {
          "output_type": "stream",
          "name": "stdout",
          "text": [
            "Mounted at /content/drive\n"
          ]
        }
      ]
    },
    {
      "cell_type": "code",
      "execution_count": null,
      "metadata": {
        "id": "TLVUuPNglpOD"
      },
      "outputs": [],
      "source": [
        "import tensorflow as tf\n",
        "from tensorflow.keras.preprocessing.image import ImageDataGenerator\n",
        "from tensorflow.keras.models import Sequential\n",
        "from tensorflow.keras.layers import Conv2D, MaxPooling2D, Flatten, Dense, Dropout\n",
        "from tensorflow.keras.optimizers import Adam"
      ]
    },
    {
      "cell_type": "code",
      "source": [
        "train_dir = '/content/drive/MyDrive/PakistaniCarDetectionDataset/Splited_dataset/train'\n",
        "valid_dir = '/content/drive/MyDrive/PakistaniCarDetectionDataset/Splited_dataset/valid'\n",
        "\n",
        "train_datagen = ImageDataGenerator(rescale=1./255)\n",
        "valid_datagen = ImageDataGenerator(rescale=1./255)\n",
        "\n",
        "train_generator = train_datagen.flow_from_directory(\n",
        "    train_dir,\n",
        "    target_size=(256, 256),\n",
        "    batch_size=32,\n",
        "    class_mode='categorical'\n",
        ")\n",
        "\n",
        "valid_generator = valid_datagen.flow_from_directory(\n",
        "    valid_dir,\n",
        "    target_size=(256, 256),\n",
        "    batch_size=32,\n",
        "    class_mode='categorical'\n",
        ")\n"
      ],
      "metadata": {
        "colab": {
          "base_uri": "https://localhost:8080/"
        },
        "id": "8GfeqF_Fl8ES",
        "outputId": "88e2b090-9812-40c9-af65-6bc06ff761a4"
      },
      "execution_count": null,
      "outputs": [
        {
          "output_type": "stream",
          "name": "stdout",
          "text": [
            "Found 3096 images belonging to 48 classes.\n",
            "Found 751 images belonging to 48 classes.\n"
          ]
        }
      ]
    },
    {
      "cell_type": "code",
      "source": [
        "model = Sequential()\n",
        "\n",
        "model.add(Conv2D(32, (3, 3), activation='relu', input_shape=(256, 256, 3)))\n",
        "model.add(MaxPooling2D(pool_size=(2, 2)))\n",
        "\n",
        "model.add(Conv2D(64, (3, 3), activation='relu'))\n",
        "model.add(MaxPooling2D(pool_size=(2, 2)))\n",
        "\n",
        "model.add(Conv2D(128, (3, 3), activation='relu'))\n",
        "model.add(MaxPooling2D(pool_size=(2, 2)))\n",
        "\n",
        "model.add(Conv2D(256, (3, 3), activation='relu'))\n",
        "model.add(MaxPooling2D(pool_size=(2, 2)))\n",
        "\n",
        "model.add(Conv2D(32, (3, 3), activation='relu'))\n",
        "model.add(MaxPooling2D(pool_size=(2, 2)))\n",
        "\n",
        "model.add(Flatten())\n",
        "model.add(Dense(512, activation='relu'))\n",
        "model.add(Dropout(0.5))\n",
        "model.add(Dense(48, activation='softmax'))  # Assuming you have 48 classes\n"
      ],
      "metadata": {
        "id": "VG-6YK7bmOBe"
      },
      "execution_count": null,
      "outputs": []
    },
    {
      "cell_type": "code",
      "source": [
        "model.compile(optimizer=Adam(learning_rate=0.0001), loss='categorical_crossentropy', metrics=['accuracy'])"
      ],
      "metadata": {
        "id": "AWEf5sa_qt92"
      },
      "execution_count": null,
      "outputs": []
    },
    {
      "cell_type": "code",
      "source": [
        "history = model.fit(\n",
        "    train_generator,\n",
        "    steps_per_epoch=train_generator.samples // train_generator.batch_size,\n",
        "    validation_data=valid_generator,\n",
        "    validation_steps=valid_generator.samples // valid_generator.batch_size,\n",
        "    epochs=50\n",
        ")\n"
      ],
      "metadata": {
        "colab": {
          "base_uri": "https://localhost:8080/"
        },
        "id": "rkByn0Fkmx00",
        "outputId": "fafca561-a77d-49a7-9453-9dbaee087fde"
      },
      "execution_count": null,
      "outputs": [
        {
          "output_type": "stream",
          "name": "stdout",
          "text": [
            "Epoch 1/50\n",
            "96/96 [==============================] - 894s 9s/step - loss: 3.7168 - accuracy: 0.0787 - val_loss: 3.5715 - val_accuracy: 0.0897\n",
            "Epoch 2/50\n",
            "96/96 [==============================] - 35s 367ms/step - loss: 3.6122 - accuracy: 0.0891 - val_loss: 3.5561 - val_accuracy: 0.0924\n",
            "Epoch 3/50\n",
            "96/96 [==============================] - 35s 362ms/step - loss: 3.5928 - accuracy: 0.0979 - val_loss: 3.5696 - val_accuracy: 0.1209\n",
            "Epoch 4/50\n",
            "96/96 [==============================] - 35s 367ms/step - loss: 3.5181 - accuracy: 0.1149 - val_loss: 3.3936 - val_accuracy: 0.1454\n",
            "Epoch 5/50\n",
            "96/96 [==============================] - 30s 317ms/step - loss: 3.3636 - accuracy: 0.1498 - val_loss: 3.2758 - val_accuracy: 0.2011\n",
            "Epoch 6/50\n",
            "96/96 [==============================] - 31s 319ms/step - loss: 3.1824 - accuracy: 0.1922 - val_loss: 3.0722 - val_accuracy: 0.2418\n",
            "Epoch 7/50\n",
            "96/96 [==============================] - 35s 364ms/step - loss: 3.0063 - accuracy: 0.2226 - val_loss: 2.9984 - val_accuracy: 0.2704\n",
            "Epoch 8/50\n",
            "96/96 [==============================] - 30s 314ms/step - loss: 2.8192 - accuracy: 0.2852 - val_loss: 2.7889 - val_accuracy: 0.2690\n",
            "Epoch 9/50\n",
            "96/96 [==============================] - 35s 367ms/step - loss: 2.6423 - accuracy: 0.3182 - val_loss: 2.7163 - val_accuracy: 0.2867\n",
            "Epoch 10/50\n",
            "96/96 [==============================] - 30s 316ms/step - loss: 2.4632 - accuracy: 0.3544 - val_loss: 2.6089 - val_accuracy: 0.3220\n",
            "Epoch 11/50\n",
            "96/96 [==============================] - 31s 321ms/step - loss: 2.3126 - accuracy: 0.3864 - val_loss: 2.6280 - val_accuracy: 0.3438\n",
            "Epoch 12/50\n",
            "96/96 [==============================] - 30s 317ms/step - loss: 2.1343 - accuracy: 0.4292 - val_loss: 2.4821 - val_accuracy: 0.3764\n",
            "Epoch 13/50\n",
            "96/96 [==============================] - 34s 357ms/step - loss: 1.9988 - accuracy: 0.4634 - val_loss: 2.3895 - val_accuracy: 0.4022\n",
            "Epoch 14/50\n",
            "96/96 [==============================] - 34s 358ms/step - loss: 1.8678 - accuracy: 0.4905 - val_loss: 2.3305 - val_accuracy: 0.4144\n",
            "Epoch 15/50\n",
            "96/96 [==============================] - 30s 315ms/step - loss: 1.6906 - accuracy: 0.5271 - val_loss: 2.2572 - val_accuracy: 0.4266\n",
            "Epoch 16/50\n",
            "96/96 [==============================] - 35s 364ms/step - loss: 1.5417 - accuracy: 0.5663 - val_loss: 2.2100 - val_accuracy: 0.4266\n",
            "Epoch 17/50\n",
            "96/96 [==============================] - 30s 311ms/step - loss: 1.4240 - accuracy: 0.5933 - val_loss: 2.2113 - val_accuracy: 0.4538\n",
            "Epoch 18/50\n",
            "96/96 [==============================] - 30s 312ms/step - loss: 1.3436 - accuracy: 0.6106 - val_loss: 2.2263 - val_accuracy: 0.4565\n",
            "Epoch 19/50\n",
            "96/96 [==============================] - 29s 306ms/step - loss: 1.1943 - accuracy: 0.6449 - val_loss: 2.1916 - val_accuracy: 0.4728\n",
            "Epoch 20/50\n",
            "96/96 [==============================] - 35s 361ms/step - loss: 1.1103 - accuracy: 0.6749 - val_loss: 2.2407 - val_accuracy: 0.4538\n",
            "Epoch 21/50\n",
            "96/96 [==============================] - 30s 309ms/step - loss: 0.9970 - accuracy: 0.7037 - val_loss: 2.1552 - val_accuracy: 0.4742\n",
            "Epoch 22/50\n",
            "96/96 [==============================] - 34s 358ms/step - loss: 0.8814 - accuracy: 0.7327 - val_loss: 2.1701 - val_accuracy: 0.4837\n",
            "Epoch 23/50\n",
            "96/96 [==============================] - 30s 308ms/step - loss: 0.8592 - accuracy: 0.7536 - val_loss: 2.1584 - val_accuracy: 0.4905\n",
            "Epoch 24/50\n",
            "96/96 [==============================] - 34s 356ms/step - loss: 0.7808 - accuracy: 0.7611 - val_loss: 2.1831 - val_accuracy: 0.5027\n",
            "Epoch 25/50\n",
            "96/96 [==============================] - 30s 309ms/step - loss: 0.6825 - accuracy: 0.7895 - val_loss: 2.1953 - val_accuracy: 0.5027\n",
            "Epoch 26/50\n",
            "96/96 [==============================] - 30s 310ms/step - loss: 0.6371 - accuracy: 0.8065 - val_loss: 2.2000 - val_accuracy: 0.5068\n",
            "Epoch 27/50\n",
            "96/96 [==============================] - 35s 361ms/step - loss: 0.5517 - accuracy: 0.8290 - val_loss: 2.2677 - val_accuracy: 0.5122\n",
            "Epoch 28/50\n",
            "96/96 [==============================] - 29s 307ms/step - loss: 0.5070 - accuracy: 0.8466 - val_loss: 2.3303 - val_accuracy: 0.5014\n",
            "Epoch 29/50\n",
            "96/96 [==============================] - 35s 360ms/step - loss: 0.4929 - accuracy: 0.8482 - val_loss: 2.3724 - val_accuracy: 0.4905\n",
            "Epoch 30/50\n",
            "96/96 [==============================] - 31s 325ms/step - loss: 0.4345 - accuracy: 0.8626 - val_loss: 2.3573 - val_accuracy: 0.5068\n",
            "Epoch 31/50\n",
            "96/96 [==============================] - 31s 322ms/step - loss: 0.4186 - accuracy: 0.8724 - val_loss: 2.4572 - val_accuracy: 0.5027\n",
            "Epoch 32/50\n",
            "96/96 [==============================] - 31s 318ms/step - loss: 0.3898 - accuracy: 0.8763 - val_loss: 2.3690 - val_accuracy: 0.5109\n",
            "Epoch 33/50\n",
            "96/96 [==============================] - 30s 308ms/step - loss: 0.3653 - accuracy: 0.8845 - val_loss: 2.3089 - val_accuracy: 0.5190\n",
            "Epoch 34/50\n",
            "96/96 [==============================] - 30s 314ms/step - loss: 0.3234 - accuracy: 0.9008 - val_loss: 2.3950 - val_accuracy: 0.5258\n",
            "Epoch 35/50\n",
            "96/96 [==============================] - 31s 326ms/step - loss: 0.3095 - accuracy: 0.9044 - val_loss: 2.4365 - val_accuracy: 0.5217\n",
            "Epoch 36/50\n",
            "96/96 [==============================] - 35s 368ms/step - loss: 0.2633 - accuracy: 0.9122 - val_loss: 2.5299 - val_accuracy: 0.5299\n",
            "Epoch 37/50\n",
            "96/96 [==============================] - 31s 317ms/step - loss: 0.2701 - accuracy: 0.9207 - val_loss: 2.5076 - val_accuracy: 0.5217\n",
            "Epoch 38/50\n",
            "96/96 [==============================] - 30s 316ms/step - loss: 0.2635 - accuracy: 0.9194 - val_loss: 2.4635 - val_accuracy: 0.5258\n",
            "Epoch 39/50\n",
            "96/96 [==============================] - 35s 367ms/step - loss: 0.2199 - accuracy: 0.9289 - val_loss: 2.5563 - val_accuracy: 0.5285\n",
            "Epoch 40/50\n",
            "96/96 [==============================] - 30s 317ms/step - loss: 0.2135 - accuracy: 0.9351 - val_loss: 2.5733 - val_accuracy: 0.5326\n",
            "Epoch 41/50\n",
            "96/96 [==============================] - 31s 318ms/step - loss: 0.2262 - accuracy: 0.9292 - val_loss: 2.5113 - val_accuracy: 0.5448\n",
            "Epoch 42/50\n",
            "96/96 [==============================] - 30s 309ms/step - loss: 0.2053 - accuracy: 0.9367 - val_loss: 2.6649 - val_accuracy: 0.5367\n",
            "Epoch 43/50\n",
            "96/96 [==============================] - 30s 309ms/step - loss: 0.2011 - accuracy: 0.9344 - val_loss: 2.6231 - val_accuracy: 0.5285\n",
            "Epoch 44/50\n",
            "96/96 [==============================] - 34s 359ms/step - loss: 0.2076 - accuracy: 0.9351 - val_loss: 2.6242 - val_accuracy: 0.5258\n",
            "Epoch 45/50\n",
            "96/96 [==============================] - 30s 316ms/step - loss: 0.1846 - accuracy: 0.9373 - val_loss: 2.7646 - val_accuracy: 0.5299\n",
            "Epoch 46/50\n",
            "96/96 [==============================] - 34s 352ms/step - loss: 0.1602 - accuracy: 0.9478 - val_loss: 2.8543 - val_accuracy: 0.5245\n",
            "Epoch 47/50\n",
            "96/96 [==============================] - 35s 362ms/step - loss: 0.1764 - accuracy: 0.9448 - val_loss: 2.7358 - val_accuracy: 0.5353\n",
            "Epoch 48/50\n",
            "96/96 [==============================] - 35s 363ms/step - loss: 0.1542 - accuracy: 0.9494 - val_loss: 2.6523 - val_accuracy: 0.5584\n",
            "Epoch 49/50\n",
            "96/96 [==============================] - 30s 314ms/step - loss: 0.1716 - accuracy: 0.9452 - val_loss: 2.6712 - val_accuracy: 0.5394\n",
            "Epoch 50/50\n",
            "96/96 [==============================] - 30s 312ms/step - loss: 0.1363 - accuracy: 0.9572 - val_loss: 2.6510 - val_accuracy: 0.5462\n"
          ]
        }
      ]
    },
    {
      "cell_type": "code",
      "source": [
        "loss, accuracy = model.evaluate(valid_generator)\n",
        "print(f'Validation Accuracy: {accuracy * 100:.2f}%')"
      ],
      "metadata": {
        "id": "cGa4j0Wpea38",
        "colab": {
          "base_uri": "https://localhost:8080/"
        },
        "outputId": "da0681fa-e56c-4570-c85e-c37f7b3882d8"
      },
      "execution_count": null,
      "outputs": [
        {
          "output_type": "stream",
          "name": "stdout",
          "text": [
            "24/24 [==============================] - 7s 277ms/step - loss: 2.6718 - accuracy: 0.5459\n",
            "Validation Accuracy: 54.59%\n"
          ]
        }
      ]
    },
    {
      "cell_type": "code",
      "source": [
        "model.save('car_model_detector.h5')"
      ],
      "metadata": {
        "id": "ghXbgABAegRR",
        "colab": {
          "base_uri": "https://localhost:8080/"
        },
        "outputId": "409f4806-8bf1-4e9c-e228-9129e5dc7622"
      },
      "execution_count": null,
      "outputs": [
        {
          "output_type": "stream",
          "name": "stderr",
          "text": [
            "/usr/local/lib/python3.10/dist-packages/keras/src/engine/training.py:3103: UserWarning: You are saving your model as an HDF5 file via `model.save()`. This file format is considered legacy. We recommend using instead the native Keras format, e.g. `model.save('my_model.keras')`.\n",
            "  saving_api.save_model(\n"
          ]
        }
      ]
    },
    {
      "cell_type": "code",
      "source": [
        "import numpy as np\n",
        "from tensorflow.keras.preprocessing import image\n",
        "from tensorflow.keras.models import load_model\n",
        "from tensorflow.keras.preprocessing.image import ImageDataGenerator\n",
        "\n",
        "# Load the trained model\n",
        "model = load_model('/content/drive/MyDrive/car_model_detector.h5')\n",
        "\n",
        "# Define directories for loading class indices\n",
        "train_dir = '/content/drive/MyDrive/PakistaniCarDetectionDataset/Splited_dataset/train'  # Update this with the actual path\n",
        "\n",
        "# Create a data generator for loading class indices\n",
        "datagen = ImageDataGenerator(rescale=1./255)\n",
        "\n",
        "# Initialize the generator to get class indices\n",
        "train_generator = datagen.flow_from_directory(\n",
        "    train_dir,\n",
        "    target_size=(256, 256),\n",
        "    batch_size=32,\n",
        "    class_mode='categorical'\n",
        ")\n",
        "\n",
        "# Get the class indices from the generator\n",
        "class_indices = train_generator.class_indices\n",
        "class_labels = {v: k for k, v in class_indices.items()}\n",
        "\n",
        "# Function to load and preprocess a single image\n",
        "def load_and_preprocess_image(img_path):\n",
        "    img = image.load_img(img_path, target_size=(256, 256))  # Resize image to 256x256\n",
        "    img_array = image.img_to_array(img)  # Convert image to array\n",
        "    img_array = np.expand_dims(img_array, axis=0)  # Add batch dimension\n",
        "    img_array /= 255.0  # Rescale to [0, 1]\n",
        "    return img_array\n",
        "\n",
        "# Function to predict the class of the car model\n",
        "def predict_car_model(img_path):\n",
        "    img = load_and_preprocess_image(img_path)\n",
        "    prediction = model.predict(img)\n",
        "    predicted_class = np.argmax(prediction[0])  # Get the index of the highest probability\n",
        "\n",
        "   # Debug: Print raw predictions and predicted class\n",
        "   # print(f'Raw predictions: {prediction}')\n",
        "   # print(f'Predicted class index: {predicted_class}')\n",
        "\n",
        "    return predicted_class\n",
        "\n",
        "# Path to the test image\n",
        "img_path = '/content/drive/MyDrive/PakistaniCarDetectionDataset/Splited_dataset/train/FAW_XPV/1520.jpg'  # Change to the actual path of the test image\n",
        "\n",
        "# Predict the class\n",
        "predicted_class_index = predict_car_model(img_path)\n",
        "predicted_class_name = class_labels[predicted_class_index]\n",
        "print(f'Predicted Class: {predicted_class_name}')\n"
      ],
      "metadata": {
        "colab": {
          "base_uri": "https://localhost:8080/"
        },
        "id": "sDrKRHGTYw5_",
        "outputId": "aedcd150-8c24-43a7-f30d-77737a7f8764"
      },
      "execution_count": null,
      "outputs": [
        {
          "output_type": "stream",
          "name": "stdout",
          "text": [
            "Found 3096 images belonging to 48 classes.\n",
            "1/1 [==============================] - 0s 126ms/step\n",
            "Predicted Class: FAW_XPV\n"
          ]
        }
      ]
    },
    {
      "cell_type": "code",
      "source": [
        "pip install gradio"
      ],
      "metadata": {
        "colab": {
          "base_uri": "https://localhost:8080/"
        },
        "id": "VdE1g77CltUk",
        "outputId": "13294209-2d1f-4290-9182-a3a6d56793b1"
      },
      "execution_count": null,
      "outputs": [
        {
          "output_type": "stream",
          "name": "stdout",
          "text": [
            "Collecting gradio\n",
            "  Downloading gradio-4.37.2-py3-none-any.whl (12.3 MB)\n",
            "\u001b[2K     \u001b[90m━━━━━━━━━━━━━━━━━━━━━━━━━━━━━━━━━━━━━━━━\u001b[0m \u001b[32m12.3/12.3 MB\u001b[0m \u001b[31m37.7 MB/s\u001b[0m eta \u001b[36m0:00:00\u001b[0m\n",
            "\u001b[?25hCollecting aiofiles<24.0,>=22.0 (from gradio)\n",
            "  Downloading aiofiles-23.2.1-py3-none-any.whl (15 kB)\n",
            "Requirement already satisfied: altair<6.0,>=4.2.0 in /usr/local/lib/python3.10/dist-packages (from gradio) (4.2.2)\n",
            "Collecting fastapi (from gradio)\n",
            "  Downloading fastapi-0.111.0-py3-none-any.whl (91 kB)\n",
            "\u001b[2K     \u001b[90m━━━━━━━━━━━━━━━━━━━━━━━━━━━━━━━━━━━━━━━━\u001b[0m \u001b[32m92.0/92.0 kB\u001b[0m \u001b[31m12.7 MB/s\u001b[0m eta \u001b[36m0:00:00\u001b[0m\n",
            "\u001b[?25hCollecting ffmpy (from gradio)\n",
            "  Downloading ffmpy-0.3.2.tar.gz (5.5 kB)\n",
            "  Preparing metadata (setup.py) ... \u001b[?25l\u001b[?25hdone\n",
            "Collecting gradio-client==1.0.2 (from gradio)\n",
            "  Downloading gradio_client-1.0.2-py3-none-any.whl (318 kB)\n",
            "\u001b[2K     \u001b[90m━━━━━━━━━━━━━━━━━━━━━━━━━━━━━━━━━━━━━━━━\u001b[0m \u001b[32m318.2/318.2 kB\u001b[0m \u001b[31m38.7 MB/s\u001b[0m eta \u001b[36m0:00:00\u001b[0m\n",
            "\u001b[?25hCollecting httpx>=0.24.1 (from gradio)\n",
            "  Downloading httpx-0.27.0-py3-none-any.whl (75 kB)\n",
            "\u001b[2K     \u001b[90m━━━━━━━━━━━━━━━━━━━━━━━━━━━━━━━━━━━━━━━━\u001b[0m \u001b[32m75.6/75.6 kB\u001b[0m \u001b[31m11.3 MB/s\u001b[0m eta \u001b[36m0:00:00\u001b[0m\n",
            "\u001b[?25hRequirement already satisfied: huggingface-hub>=0.19.3 in /usr/local/lib/python3.10/dist-packages (from gradio) (0.23.4)\n",
            "Requirement already satisfied: importlib-resources<7.0,>=1.3 in /usr/local/lib/python3.10/dist-packages (from gradio) (6.4.0)\n",
            "Requirement already satisfied: jinja2<4.0 in /usr/local/lib/python3.10/dist-packages (from gradio) (3.1.4)\n",
            "Requirement already satisfied: markupsafe~=2.0 in /usr/local/lib/python3.10/dist-packages (from gradio) (2.1.5)\n",
            "Requirement already satisfied: matplotlib~=3.0 in /usr/local/lib/python3.10/dist-packages (from gradio) (3.7.1)\n",
            "Requirement already satisfied: numpy<3.0,>=1.0 in /usr/local/lib/python3.10/dist-packages (from gradio) (1.25.2)\n",
            "Collecting orjson~=3.0 (from gradio)\n",
            "  Downloading orjson-3.10.6-cp310-cp310-manylinux_2_17_x86_64.manylinux2014_x86_64.whl (141 kB)\n",
            "\u001b[2K     \u001b[90m━━━━━━━━━━━━━━━━━━━━━━━━━━━━━━━━━━━━━━━━\u001b[0m \u001b[32m141.1/141.1 kB\u001b[0m \u001b[31m21.3 MB/s\u001b[0m eta \u001b[36m0:00:00\u001b[0m\n",
            "\u001b[?25hRequirement already satisfied: packaging in /usr/local/lib/python3.10/dist-packages (from gradio) (24.1)\n",
            "Requirement already satisfied: pandas<3.0,>=1.0 in /usr/local/lib/python3.10/dist-packages (from gradio) (2.0.3)\n",
            "Requirement already satisfied: pillow<11.0,>=8.0 in /usr/local/lib/python3.10/dist-packages (from gradio) (9.4.0)\n",
            "Requirement already satisfied: pydantic>=2.0 in /usr/local/lib/python3.10/dist-packages (from gradio) (2.8.0)\n",
            "Collecting pydub (from gradio)\n",
            "  Downloading pydub-0.25.1-py2.py3-none-any.whl (32 kB)\n",
            "Collecting python-multipart>=0.0.9 (from gradio)\n",
            "  Downloading python_multipart-0.0.9-py3-none-any.whl (22 kB)\n",
            "Requirement already satisfied: pyyaml<7.0,>=5.0 in /usr/local/lib/python3.10/dist-packages (from gradio) (6.0.1)\n",
            "Collecting ruff>=0.2.2 (from gradio)\n",
            "  Downloading ruff-0.5.1-py3-none-manylinux_2_17_x86_64.manylinux2014_x86_64.whl (10.1 MB)\n",
            "\u001b[2K     \u001b[90m━━━━━━━━━━━━━━━━━━━━━━━━━━━━━━━━━━━━━━━━\u001b[0m \u001b[32m10.1/10.1 MB\u001b[0m \u001b[31m79.7 MB/s\u001b[0m eta \u001b[36m0:00:00\u001b[0m\n",
            "\u001b[?25hCollecting semantic-version~=2.0 (from gradio)\n",
            "  Downloading semantic_version-2.10.0-py2.py3-none-any.whl (15 kB)\n",
            "Collecting tomlkit==0.12.0 (from gradio)\n",
            "  Downloading tomlkit-0.12.0-py3-none-any.whl (37 kB)\n",
            "Requirement already satisfied: typer<1.0,>=0.12 in /usr/local/lib/python3.10/dist-packages (from gradio) (0.12.3)\n",
            "Requirement already satisfied: typing-extensions~=4.0 in /usr/local/lib/python3.10/dist-packages (from gradio) (4.12.2)\n",
            "Requirement already satisfied: urllib3~=2.0 in /usr/local/lib/python3.10/dist-packages (from gradio) (2.0.7)\n",
            "Collecting uvicorn>=0.14.0 (from gradio)\n",
            "  Downloading uvicorn-0.30.1-py3-none-any.whl (62 kB)\n",
            "\u001b[2K     \u001b[90m━━━━━━━━━━━━━━━━━━━━━━━━━━━━━━━━━━━━━━━━\u001b[0m \u001b[32m62.4/62.4 kB\u001b[0m \u001b[31m9.0 MB/s\u001b[0m eta \u001b[36m0:00:00\u001b[0m\n",
            "\u001b[?25hRequirement already satisfied: fsspec in /usr/local/lib/python3.10/dist-packages (from gradio-client==1.0.2->gradio) (2023.6.0)\n",
            "Collecting websockets<12.0,>=10.0 (from gradio-client==1.0.2->gradio)\n",
            "  Downloading websockets-11.0.3-cp310-cp310-manylinux_2_5_x86_64.manylinux1_x86_64.manylinux_2_17_x86_64.manylinux2014_x86_64.whl (129 kB)\n",
            "\u001b[2K     \u001b[90m━━━━━━━━━━━━━━━━━━━━━━━━━━━━━━━━━━━━━━━━\u001b[0m \u001b[32m129.9/129.9 kB\u001b[0m \u001b[31m19.3 MB/s\u001b[0m eta \u001b[36m0:00:00\u001b[0m\n",
            "\u001b[?25hRequirement already satisfied: entrypoints in /usr/local/lib/python3.10/dist-packages (from altair<6.0,>=4.2.0->gradio) (0.4)\n",
            "Requirement already satisfied: jsonschema>=3.0 in /usr/local/lib/python3.10/dist-packages (from altair<6.0,>=4.2.0->gradio) (4.19.2)\n",
            "Requirement already satisfied: toolz in /usr/local/lib/python3.10/dist-packages (from altair<6.0,>=4.2.0->gradio) (0.12.1)\n",
            "Requirement already satisfied: anyio in /usr/local/lib/python3.10/dist-packages (from httpx>=0.24.1->gradio) (3.7.1)\n",
            "Requirement already satisfied: certifi in /usr/local/lib/python3.10/dist-packages (from httpx>=0.24.1->gradio) (2024.6.2)\n",
            "Collecting httpcore==1.* (from httpx>=0.24.1->gradio)\n",
            "  Downloading httpcore-1.0.5-py3-none-any.whl (77 kB)\n",
            "\u001b[2K     \u001b[90m━━━━━━━━━━━━━━━━━━━━━━━━━━━━━━━━━━━━━━━━\u001b[0m \u001b[32m77.9/77.9 kB\u001b[0m \u001b[31m11.9 MB/s\u001b[0m eta \u001b[36m0:00:00\u001b[0m\n",
            "\u001b[?25hRequirement already satisfied: idna in /usr/local/lib/python3.10/dist-packages (from httpx>=0.24.1->gradio) (3.7)\n",
            "Requirement already satisfied: sniffio in /usr/local/lib/python3.10/dist-packages (from httpx>=0.24.1->gradio) (1.3.1)\n",
            "Collecting h11<0.15,>=0.13 (from httpcore==1.*->httpx>=0.24.1->gradio)\n",
            "  Downloading h11-0.14.0-py3-none-any.whl (58 kB)\n",
            "\u001b[2K     \u001b[90m━━━━━━━━━━━━━━━━━━━━━━━━━━━━━━━━━━━━━━━━\u001b[0m \u001b[32m58.3/58.3 kB\u001b[0m \u001b[31m9.1 MB/s\u001b[0m eta \u001b[36m0:00:00\u001b[0m\n",
            "\u001b[?25hRequirement already satisfied: filelock in /usr/local/lib/python3.10/dist-packages (from huggingface-hub>=0.19.3->gradio) (3.15.4)\n",
            "Requirement already satisfied: requests in /usr/local/lib/python3.10/dist-packages (from huggingface-hub>=0.19.3->gradio) (2.31.0)\n",
            "Requirement already satisfied: tqdm>=4.42.1 in /usr/local/lib/python3.10/dist-packages (from huggingface-hub>=0.19.3->gradio) (4.66.4)\n",
            "Requirement already satisfied: contourpy>=1.0.1 in /usr/local/lib/python3.10/dist-packages (from matplotlib~=3.0->gradio) (1.2.1)\n",
            "Requirement already satisfied: cycler>=0.10 in /usr/local/lib/python3.10/dist-packages (from matplotlib~=3.0->gradio) (0.12.1)\n",
            "Requirement already satisfied: fonttools>=4.22.0 in /usr/local/lib/python3.10/dist-packages (from matplotlib~=3.0->gradio) (4.53.0)\n",
            "Requirement already satisfied: kiwisolver>=1.0.1 in /usr/local/lib/python3.10/dist-packages (from matplotlib~=3.0->gradio) (1.4.5)\n",
            "Requirement already satisfied: pyparsing>=2.3.1 in /usr/local/lib/python3.10/dist-packages (from matplotlib~=3.0->gradio) (3.1.2)\n",
            "Requirement already satisfied: python-dateutil>=2.7 in /usr/local/lib/python3.10/dist-packages (from matplotlib~=3.0->gradio) (2.8.2)\n",
            "Requirement already satisfied: pytz>=2020.1 in /usr/local/lib/python3.10/dist-packages (from pandas<3.0,>=1.0->gradio) (2023.4)\n",
            "Requirement already satisfied: tzdata>=2022.1 in /usr/local/lib/python3.10/dist-packages (from pandas<3.0,>=1.0->gradio) (2024.1)\n",
            "Requirement already satisfied: annotated-types>=0.4.0 in /usr/local/lib/python3.10/dist-packages (from pydantic>=2.0->gradio) (0.7.0)\n",
            "Requirement already satisfied: pydantic-core==2.20.0 in /usr/local/lib/python3.10/dist-packages (from pydantic>=2.0->gradio) (2.20.0)\n",
            "Requirement already satisfied: click>=8.0.0 in /usr/local/lib/python3.10/dist-packages (from typer<1.0,>=0.12->gradio) (8.1.7)\n",
            "Requirement already satisfied: shellingham>=1.3.0 in /usr/local/lib/python3.10/dist-packages (from typer<1.0,>=0.12->gradio) (1.5.4)\n",
            "Requirement already satisfied: rich>=10.11.0 in /usr/local/lib/python3.10/dist-packages (from typer<1.0,>=0.12->gradio) (13.7.1)\n",
            "Collecting starlette<0.38.0,>=0.37.2 (from fastapi->gradio)\n",
            "  Downloading starlette-0.37.2-py3-none-any.whl (71 kB)\n",
            "\u001b[2K     \u001b[90m━━━━━━━━━━━━━━━━━━━━━━━━━━━━━━━━━━━━━━━━\u001b[0m \u001b[32m71.9/71.9 kB\u001b[0m \u001b[31m10.9 MB/s\u001b[0m eta \u001b[36m0:00:00\u001b[0m\n",
            "\u001b[?25hCollecting fastapi-cli>=0.0.2 (from fastapi->gradio)\n",
            "  Downloading fastapi_cli-0.0.4-py3-none-any.whl (9.5 kB)\n",
            "Collecting ujson!=4.0.2,!=4.1.0,!=4.2.0,!=4.3.0,!=5.0.0,!=5.1.0,>=4.0.1 (from fastapi->gradio)\n",
            "  Downloading ujson-5.10.0-cp310-cp310-manylinux_2_17_x86_64.manylinux2014_x86_64.whl (53 kB)\n",
            "\u001b[2K     \u001b[90m━━━━━━━━━━━━━━━━━━━━━━━━━━━━━━━━━━━━━━━━\u001b[0m \u001b[32m53.6/53.6 kB\u001b[0m \u001b[31m7.6 MB/s\u001b[0m eta \u001b[36m0:00:00\u001b[0m\n",
            "\u001b[?25hCollecting email_validator>=2.0.0 (from fastapi->gradio)\n",
            "  Downloading email_validator-2.2.0-py3-none-any.whl (33 kB)\n",
            "Collecting dnspython>=2.0.0 (from email_validator>=2.0.0->fastapi->gradio)\n",
            "  Downloading dnspython-2.6.1-py3-none-any.whl (307 kB)\n",
            "\u001b[2K     \u001b[90m━━━━━━━━━━━━━━━━━━━━━━━━━━━━━━━━━━━━━━━━\u001b[0m \u001b[32m307.7/307.7 kB\u001b[0m \u001b[31m31.9 MB/s\u001b[0m eta \u001b[36m0:00:00\u001b[0m\n",
            "\u001b[?25hRequirement already satisfied: attrs>=22.2.0 in /usr/local/lib/python3.10/dist-packages (from jsonschema>=3.0->altair<6.0,>=4.2.0->gradio) (23.2.0)\n",
            "Requirement already satisfied: jsonschema-specifications>=2023.03.6 in /usr/local/lib/python3.10/dist-packages (from jsonschema>=3.0->altair<6.0,>=4.2.0->gradio) (2023.12.1)\n",
            "Requirement already satisfied: referencing>=0.28.4 in /usr/local/lib/python3.10/dist-packages (from jsonschema>=3.0->altair<6.0,>=4.2.0->gradio) (0.35.1)\n",
            "Requirement already satisfied: rpds-py>=0.7.1 in /usr/local/lib/python3.10/dist-packages (from jsonschema>=3.0->altair<6.0,>=4.2.0->gradio) (0.18.1)\n",
            "Requirement already satisfied: six>=1.5 in /usr/local/lib/python3.10/dist-packages (from python-dateutil>=2.7->matplotlib~=3.0->gradio) (1.16.0)\n",
            "Requirement already satisfied: markdown-it-py>=2.2.0 in /usr/local/lib/python3.10/dist-packages (from rich>=10.11.0->typer<1.0,>=0.12->gradio) (3.0.0)\n",
            "Requirement already satisfied: pygments<3.0.0,>=2.13.0 in /usr/local/lib/python3.10/dist-packages (from rich>=10.11.0->typer<1.0,>=0.12->gradio) (2.16.1)\n",
            "Requirement already satisfied: exceptiongroup in /usr/local/lib/python3.10/dist-packages (from anyio->httpx>=0.24.1->gradio) (1.2.1)\n",
            "Collecting httptools>=0.5.0 (from uvicorn>=0.14.0->gradio)\n",
            "  Downloading httptools-0.6.1-cp310-cp310-manylinux_2_5_x86_64.manylinux1_x86_64.manylinux_2_17_x86_64.manylinux2014_x86_64.whl (341 kB)\n",
            "\u001b[2K     \u001b[90m━━━━━━━━━━━━━━━━━━━━━━━━━━━━━━━━━━━━━━━━\u001b[0m \u001b[32m341.4/341.4 kB\u001b[0m \u001b[31m37.3 MB/s\u001b[0m eta \u001b[36m0:00:00\u001b[0m\n",
            "\u001b[?25hCollecting python-dotenv>=0.13 (from uvicorn>=0.14.0->gradio)\n",
            "  Downloading python_dotenv-1.0.1-py3-none-any.whl (19 kB)\n",
            "Collecting uvloop!=0.15.0,!=0.15.1,>=0.14.0 (from uvicorn>=0.14.0->gradio)\n",
            "  Downloading uvloop-0.19.0-cp310-cp310-manylinux_2_17_x86_64.manylinux2014_x86_64.whl (3.4 MB)\n",
            "\u001b[2K     \u001b[90m━━━━━━━━━━━━━━━━━━━━━━━━━━━━━━━━━━━━━━━━\u001b[0m \u001b[32m3.4/3.4 MB\u001b[0m \u001b[31m84.1 MB/s\u001b[0m eta \u001b[36m0:00:00\u001b[0m\n",
            "\u001b[?25hCollecting watchfiles>=0.13 (from uvicorn>=0.14.0->gradio)\n",
            "  Downloading watchfiles-0.22.0-cp310-cp310-manylinux_2_17_x86_64.manylinux2014_x86_64.whl (1.2 MB)\n",
            "\u001b[2K     \u001b[90m━━━━━━━━━━━━━━━━━━━━━━━━━━━━━━━━━━━━━━━━\u001b[0m \u001b[32m1.2/1.2 MB\u001b[0m \u001b[31m65.1 MB/s\u001b[0m eta \u001b[36m0:00:00\u001b[0m\n",
            "\u001b[?25hRequirement already satisfied: charset-normalizer<4,>=2 in /usr/local/lib/python3.10/dist-packages (from requests->huggingface-hub>=0.19.3->gradio) (3.3.2)\n",
            "Requirement already satisfied: mdurl~=0.1 in /usr/local/lib/python3.10/dist-packages (from markdown-it-py>=2.2.0->rich>=10.11.0->typer<1.0,>=0.12->gradio) (0.1.2)\n",
            "Building wheels for collected packages: ffmpy\n",
            "  Building wheel for ffmpy (setup.py) ... \u001b[?25l\u001b[?25hdone\n",
            "  Created wheel for ffmpy: filename=ffmpy-0.3.2-py3-none-any.whl size=5584 sha256=a57e86619e52b0a99878091a4301a810559825dc47717f4eafc31956b7c77388\n",
            "  Stored in directory: /root/.cache/pip/wheels/bd/65/9a/671fc6dcde07d4418df0c592f8df512b26d7a0029c2a23dd81\n",
            "Successfully built ffmpy\n",
            "Installing collected packages: pydub, ffmpy, websockets, uvloop, ujson, tomlkit, semantic-version, ruff, python-multipart, python-dotenv, orjson, httptools, h11, dnspython, aiofiles, watchfiles, uvicorn, starlette, httpcore, email_validator, httpx, gradio-client, fastapi-cli, fastapi, gradio\n",
            "Successfully installed aiofiles-23.2.1 dnspython-2.6.1 email_validator-2.2.0 fastapi-0.111.0 fastapi-cli-0.0.4 ffmpy-0.3.2 gradio-4.37.2 gradio-client-1.0.2 h11-0.14.0 httpcore-1.0.5 httptools-0.6.1 httpx-0.27.0 orjson-3.10.6 pydub-0.25.1 python-dotenv-1.0.1 python-multipart-0.0.9 ruff-0.5.1 semantic-version-2.10.0 starlette-0.37.2 tomlkit-0.12.0 ujson-5.10.0 uvicorn-0.30.1 uvloop-0.19.0 watchfiles-0.22.0 websockets-11.0.3\n"
          ]
        }
      ]
    },
    {
      "cell_type": "code",
      "source": [
        "import numpy as np\n",
        "from tensorflow.keras.preprocessing import image\n",
        "from tensorflow.keras.models import load_model\n",
        "from tensorflow.keras.preprocessing.image import ImageDataGenerator\n",
        "import gradio as gr\n",
        "\n",
        "# Load the trained model\n",
        "model = load_model('/content/drive/MyDrive/car_model_detector.h5')\n",
        "\n",
        "# Define directories for loading class indices\n",
        "train_dir = '/content/drive/MyDrive/PakistaniCarDetectionDataset/Splited_dataset/train'  # Update this with the actual path\n",
        "\n",
        "# Create a data generator for loading class indices\n",
        "datagen = ImageDataGenerator(rescale=1./255)\n",
        "\n",
        "# Initialize the generator to get class indices\n",
        "train_generator = datagen.flow_from_directory(\n",
        "    train_dir,\n",
        "    target_size=(256, 256),\n",
        "    batch_size=32,\n",
        "    class_mode='categorical'\n",
        ")\n",
        "\n",
        "# Get the class indices from the generator\n",
        "class_indices = train_generator.class_indices\n",
        "class_labels = {v: k for k, v in class_indices.items()}\n",
        "\n",
        "# Function to load and preprocess a single image\n",
        "def load_and_preprocess_image(img_path):\n",
        "    img = image.load_img(img_path, target_size=(256, 256))  # Resize image to 256x256\n",
        "    img_array = image.img_to_array(img)  # Convert image to array\n",
        "    img_array = np.expand_dims(img_array, axis=0)  # Add batch dimension\n",
        "    img_array /= 255.0  # Rescale to [0, 1]\n",
        "    return img_array\n",
        "\n",
        "# Function to predict the class of the car model\n",
        "def predict_car_model(img_path):\n",
        "    img = load_and_preprocess_image(img_path)\n",
        "    prediction = model.predict(img)\n",
        "    predicted_class = np.argmax(prediction[0])  # Get the index of the highest probability\n",
        "\n",
        "    # Debug: Print raw predictions and predicted class\n",
        "    # print(f'Raw predictions: {prediction}')\n",
        "    # print(f'Predicted class index: {predicted_class}')\n",
        "\n",
        "    return class_labels[predicted_class]\n",
        "\n",
        "# Gradio interface function\n",
        "def gradio_predict_car_model(image):\n",
        "    predicted_class_name = predict_car_model(image)\n",
        "    return predicted_class_name\n",
        "\n",
        "# Create Gradio interface\n",
        "interface = gr.Interface(\n",
        "    fn=gradio_predict_car_model,\n",
        "    inputs=gr.Image(type='filepath'),  # Change to 'filepath'\n",
        "    outputs=gr.Textbox(),\n",
        "    title=\"Car Model Detector\",\n",
        "    description=\"Upload an image of a car to detect its model.\"\n",
        ")\n",
        "\n",
        "# Launch the interface\n",
        "interface.launch()\n"
      ],
      "metadata": {
        "colab": {
          "base_uri": "https://localhost:8080/",
          "height": 642
        },
        "id": "8THjRnGFlzMP",
        "outputId": "26818c9f-f1b8-48f2-d5a6-809abe5d0d23"
      },
      "execution_count": null,
      "outputs": [
        {
          "output_type": "stream",
          "name": "stdout",
          "text": [
            "Found 3096 images belonging to 48 classes.\n",
            "Setting queue=True in a Colab notebook requires sharing enabled. Setting `share=True` (you can turn this off by setting `share=False` in `launch()` explicitly).\n",
            "\n",
            "Colab notebook detected. To show errors in colab notebook, set debug=True in launch()\n",
            "Running on public URL: https://611178e5a8b9cef1ce.gradio.live\n",
            "\n",
            "This share link expires in 72 hours. For free permanent hosting and GPU upgrades, run `gradio deploy` from Terminal to deploy to Spaces (https://huggingface.co/spaces)\n"
          ]
        },
        {
          "output_type": "display_data",
          "data": {
            "text/plain": [
              "<IPython.core.display.HTML object>"
            ],
            "text/html": [
              "<div><iframe src=\"https://611178e5a8b9cef1ce.gradio.live\" width=\"100%\" height=\"500\" allow=\"autoplay; camera; microphone; clipboard-read; clipboard-write;\" frameborder=\"0\" allowfullscreen></iframe></div>"
            ]
          },
          "metadata": {}
        },
        {
          "output_type": "execute_result",
          "data": {
            "text/plain": []
          },
          "metadata": {},
          "execution_count": 16
        }
      ]
    }
  ]
}